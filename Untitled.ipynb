{
 "cells": [
  {
   "cell_type": "code",
   "execution_count": 1,
   "id": "1c011bb2",
   "metadata": {},
   "outputs": [
    {
     "name": "stdout",
     "output_type": "stream",
     "text": [
      "PDF created successfully and saved as ./combined_images.pdf\n"
     ]
    }
   ],
   "source": [
    "from PIL import Image\n",
    "import os\n",
    "\n",
    "def combine_images_to_pdf(image_folder, output_pdf):\n",
    "    # Get all jpg images from the folder and sort them numerically\n",
    "    image_files = sorted([f for f in os.listdir(image_folder) if f.endswith('.jpg')], key=lambda x: int(os.path.splitext(x)[0]))\n",
    "\n",
    "    # Open images and convert to RGB\n",
    "    images = [Image.open(os.path.join(image_folder, file)).convert('RGB') for file in image_files]\n",
    "\n",
    "    # Save all images to a single PDF\n",
    "    if images:\n",
    "        images[0].save(output_pdf, save_all=True, append_images=images[1:])\n",
    "        print(f\"PDF created successfully and saved as {output_pdf}\")\n",
    "    else:\n",
    "        print(\"No images found in the specified folder.\")\n",
    "\n",
    "# Specify the folder containing the images and the output PDF file\n",
    "image_folder = './img'\n",
    "output_pdf = './combined_images.pdf'\n",
    "\n",
    "combine_images_to_pdf(image_folder, output_pdf)"
   ]
  },
  {
   "cell_type": "code",
   "execution_count": null,
   "id": "e800757f",
   "metadata": {},
   "outputs": [],
   "source": []
  }
 ],
 "metadata": {
  "kernelspec": {
   "display_name": "ai",
   "language": "python",
   "name": "ai"
  },
  "language_info": {
   "codemirror_mode": {
    "name": "ipython",
    "version": 3
   },
   "file_extension": ".py",
   "mimetype": "text/x-python",
   "name": "python",
   "nbconvert_exporter": "python",
   "pygments_lexer": "ipython3",
   "version": "3.11.7"
  }
 },
 "nbformat": 4,
 "nbformat_minor": 5
}
